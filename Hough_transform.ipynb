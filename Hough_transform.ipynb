{
  "nbformat": 4,
  "nbformat_minor": 0,
  "metadata": {
    "colab": {
      "name": "Hough_transform.ipynb",
      "provenance": [],
      "collapsed_sections": [],
      "authorship_tag": "ABX9TyMLQsGpD7LBVDuEEj5yYcgw",
      "include_colab_link": true
    },
    "kernelspec": {
      "name": "python3",
      "display_name": "Python 3"
    },
    "language_info": {
      "name": "python"
    }
  },
  "cells": [
    {
      "cell_type": "markdown",
      "metadata": {
        "id": "view-in-github",
        "colab_type": "text"
      },
      "source": [
        "<a href=\"https://colab.research.google.com/github/khanhhuynh0505/Thesis_ROS/blob/main/Hough_transform.ipynb\" target=\"_parent\"><img src=\"https://colab.research.google.com/assets/colab-badge.svg\" alt=\"Open In Colab\"/></a>"
      ]
    },
    {
      "cell_type": "code",
      "source": [
        "from google.colab import drive\n",
        "drive.mount('/content/drive')"
      ],
      "metadata": {
        "id": "Cv6JgVzkbJ5S"
      },
      "execution_count": null,
      "outputs": []
    },
    {
      "cell_type": "code",
      "execution_count": null,
      "metadata": {
        "id": "xZEtpwrzbFl0"
      },
      "outputs": [],
      "source": [
        "import cv2 as cv\n",
        "import numpy as np\n",
        "img = cv.imread('lane2.png')\n",
        "gray = cv.cvtColor(img,cv.COLOR_BGR2GRAY)\n",
        "edges = cv.Canny(gray,50,150,apertureSize = 3)\n",
        "lines = cv.HoughLines(edges,1,np.pi/180,130)\n",
        "if lines is not None:\n",
        "    for line in lines:\n",
        "        rho,theta = line[0]\n",
        "        a = np.cos(theta)\n",
        "        b = np.sin(theta)\n",
        "        x0 = a*rho\n",
        "        y0 = b*rho\n",
        "        x1 = int(x0 + 1000*(-b))\n",
        "        y1 = int(y0 + 1000*(a))\n",
        "        x2 = int(x0 - 1000*(-b))\n",
        "        y2 = int(y0 - 1000*(a))\n",
        "        cv.line(img,(x1,y1),(x2,y2),(0,0,255),2)\n",
        "    cv.imshow('houghlines3.jpg',img)\n",
        "    cv.waitKey()\n",
        "else:\n",
        "   print(\"No line detected in image\")"
      ]
    }
  ]
}